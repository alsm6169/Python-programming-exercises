{
 "cells": [
  {
   "cell_type": "code",
   "execution_count": 173,
   "metadata": {},
   "outputs": [],
   "source": [
    "import pandas as pd\n",
    "import numpy as np"
   ]
  },
  {
   "cell_type": "code",
   "execution_count": 16,
   "metadata": {},
   "outputs": [
    {
     "name": "stdout",
     "output_type": "stream",
     "text": [
      "Empty DataFrame\n",
      "Columns: []\n",
      "Index: []\n",
      "True\n"
     ]
    }
   ],
   "source": [
    "df=pd.DataFrame()\n",
    "print(df)\n",
    "print(\"df.empty: \", df.empty)"
   ]
  },
  {
   "cell_type": "code",
   "execution_count": null,
   "metadata": {},
   "outputs": [],
   "source": []
  },
  {
   "cell_type": "code",
   "execution_count": 20,
   "metadata": {},
   "outputs": [
    {
     "name": "stdout",
     "output_type": "stream",
     "text": [
      "     0  1   2\n",
      "0  Ani  1  93\n",
      "1  Bob  2  98\n",
      "2  Cal  3  95\n",
      "3  Dom  4  99\n",
      "df.empty:  False\n",
      "df.shape:  (4, 3)\n",
      "df.size:  12\n",
      "df.values:  [['Ani' 1 93]\n",
      " ['Bob' 2 98]\n",
      " ['Cal' 3 95]\n",
      " ['Dom' 4 99]]\n"
     ]
    }
   ],
   "source": [
    "#Creating as Records\n",
    "data=[['Ani',1,93],['Bob',2,98],['Cal',3,95],['Dom',4,99]]\n",
    "df=pd.DataFrame(data)\n",
    "print(df)\n",
    "print(\"df.empty: \", df.empty)\n",
    "print(\"df.shape: \", df.shape)\n",
    "print(\"df.size: \", df.size)\n",
    "#print(\"df.values: \", df.values)"
   ]
  },
  {
   "cell_type": "code",
   "execution_count": 21,
   "metadata": {},
   "outputs": [
    {
     "name": "stdout",
     "output_type": "stream",
     "text": [
      "  Name  Age  Score\n",
      "0  Ani    1     93\n",
      "1  Bob    2     98\n",
      "2  Cal    3     95\n",
      "3  Dom    4     99\n",
      "df.empty:  False\n",
      "df.shape:  (4, 3)\n",
      "df.size:  12\n"
     ]
    }
   ],
   "source": [
    "data=[['Ani',1,93],['Bob',2,98],['Cal',3,95],['Dom',4,99]]\n",
    "df=pd.DataFrame(data,columns=['Name','Age','Score'])\n",
    "print(df)\n",
    "print(\"df.empty: \", df.empty)\n",
    "print(\"df.shape: \", df.shape)\n",
    "print(\"df.size: \", df.size)"
   ]
  },
  {
   "cell_type": "code",
   "execution_count": 44,
   "metadata": {},
   "outputs": [
    {
     "name": "stdout",
     "output_type": "stream",
     "text": [
      "   Age Names  Score\n",
      "0    1   Ani     93\n",
      "1    2   Bob     98\n",
      "2    3   Cal     95\n",
      "3    4   Dom     99\n",
      "df.empty:  False\n",
      "df.shape:  (4, 3)\n",
      "df.size:  12\n",
      "df.axes:  [RangeIndex(start=0, stop=4, step=1), Index(['Age', 'Names', 'Score'], dtype='object')]\n",
      "df.ndim:  2\n"
     ]
    },
    {
     "data": {
      "text/plain": [
       "Age       2.50\n",
       "Score    96.25\n",
       "dtype: float64"
      ]
     },
     "execution_count": 44,
     "metadata": {},
     "output_type": "execute_result"
    }
   ],
   "source": [
    "#same as above but more common way, not with records but like individual series\n",
    "data = {'Names':['Ani','Bob','Cal','Dom'], 'Age': [1,2,3,4], 'Score': [93,98,95,99]}\n",
    "df = pd.DataFrame(data)\n",
    "print(df)\n",
    "print(\"df.empty: \", df.empty)\n",
    "print(\"df.shape: \", df.shape)\n",
    "print(\"df.size: \", df.size)\n",
    "print(\"df.axes: \", df.axes)\n",
    "print(\"df.ndim: \", df.ndim)\n",
    "#print(\"df.sum: \\n\", df.sum())\n",
    "#print(\"df.describe: \\n\", df.describe(include='all'))\n",
    "df[['Age','Score']].apply(np.mean)"
   ]
  },
  {
   "cell_type": "code",
   "execution_count": null,
   "metadata": {},
   "outputs": [],
   "source": []
  },
  {
   "cell_type": "code",
   "execution_count": 24,
   "metadata": {},
   "outputs": [
    {
     "name": "stdout",
     "output_type": "stream",
     "text": [
      "[[[0.21473748 0.44090286 0.96657484 0.66623485]\n",
      "  [0.12600384 0.08273028 0.13806046 0.16504021]\n",
      "  [0.50243143 0.77885545 0.83224911 0.63158371]]\n",
      "\n",
      " [[0.48116427 0.88966304 0.11758025 0.67285001]\n",
      "  [0.00646432 0.73345508 0.77786892 0.02169945]\n",
      "  [0.68039393 0.76651595 0.17142581 0.77011844]]]\n",
      "<class 'pandas.core.panel.Panel'>\n",
      "Dimensions: 2 (items) x 3 (major_axis) x 4 (minor_axis)\n",
      "Items axis: 0 to 1\n",
      "Major_axis axis: 0 to 2\n",
      "Minor_axis axis: 0 to 3\n",
      "p.axes:  [RangeIndex(start=0, stop=2, step=1), RangeIndex(start=0, stop=3, step=1), RangeIndex(start=0, stop=4, step=1)]\n"
     ]
    }
   ],
   "source": [
    "# creating an empty panel\n",
    "import pandas as pd\n",
    "import numpy as np\n",
    "\n",
    "data = np.random.rand(2,3,4)\n",
    "print(data)\n",
    "p = pd.Panel(data)\n",
    "print(p)\n",
    "print(\"p.axes: \", p.axes)"
   ]
  },
  {
   "cell_type": "code",
   "execution_count": 67,
   "metadata": {},
   "outputs": [
    {
     "name": "stdout",
     "output_type": "stream",
     "text": [
      "           A       C           D    x         y\n",
      "0 2016-01-01    High   88.749024  0.0  0.930721\n",
      "1 2016-01-02     Low  114.355398  1.0  0.591658\n",
      "2 2016-01-03     Low  118.114813  2.0  0.920253\n",
      "3 2016-01-04    High  113.250863  3.0  0.514473\n",
      "4 2016-01-05    High  102.063170  4.0  0.266828\n",
      "5 2016-01-06    High  100.380606  5.0  0.606489\n",
      "6 2016-01-07  Medium   80.715162  6.0  0.711441\n",
      "7 2016-01-08  Medium  109.166834  7.0  0.579225\n",
      "8 2016-01-09    High  110.151227  8.0  0.365354\n",
      "9 2016-01-10  Medium  118.591150  9.0  0.239074\n"
     ]
    },
    {
     "name": "stderr",
     "output_type": "stream",
     "text": [
      "/anaconda3/lib/python3.6/site-packages/pandas/plotting/_core.py:1716: UserWarning: Pandas doesn't allow columns to be created via a new attribute name - see https://pandas.pydata.org/pandas-docs/stable/indexing.html#attribute-access\n",
      "  series.name = label\n"
     ]
    },
    {
     "data": {
      "text/plain": [
       "<matplotlib.axes._subplots.AxesSubplot at 0x1203d1240>"
      ]
     },
     "execution_count": 67,
     "metadata": {},
     "output_type": "execute_result"
    },
    {
     "data": {
      "image/png": "[encoded data removed]",
      "text/plain": [
       "<matplotlib.figure.Figure at 0x1203d1588>"
      ]
     },
     "metadata": {},
     "output_type": "display_data"
    }
   ],
   "source": [
    "import pandas as pd\n",
    "import numpy as np\n",
    "\n",
    "N=10\n",
    "\n",
    "df = pd.DataFrame({\n",
    "   'A': pd.date_range(start='2016-01-01',periods=N,freq='D'),\n",
    "   'x': np.linspace(0,stop=N-1,num=N),\n",
    "   'y': np.random.rand(N),\n",
    "   'C': np.random.choice(['Low','Medium','High'],N).tolist(),\n",
    "   'D': np.random.normal(100, 10, size=(N)).tolist()\n",
    "})\n",
    "print(df)\n",
    "df.plot(x=df['A'],y=['y'])\n"
   ]
  },
  {
   "cell_type": "code",
   "execution_count": 26,
   "metadata": {},
   "outputs": [
    {
     "name": "stdout",
     "output_type": "stream",
     "text": [
      "       col2      col1\n",
      "1 -0.253000  0.731271\n",
      "4  0.531696 -1.397565\n",
      "2 -0.896895 -1.111520\n",
      "3  1.415461 -0.260265\n",
      "0 -0.167038  0.288587\n",
      "       col2      col1\n",
      "0 -0.167038  0.288587\n",
      "1 -0.253000  0.731271\n",
      "2 -0.896895 -1.111520\n",
      "3  1.415461 -0.260265\n",
      "4  0.531696 -1.397565\n",
      "       col1      col2\n",
      "1  0.731271 -0.253000\n",
      "4 -1.397565  0.531696\n",
      "2 -1.111520 -0.896895\n",
      "3 -0.260265  1.415461\n",
      "0  0.288587 -0.167038\n",
      "       col2      col1\n",
      "4  0.531696 -1.397565\n",
      "2 -0.896895 -1.111520\n",
      "3  1.415461 -0.260265\n",
      "0 -0.167038  0.288587\n",
      "1 -0.253000  0.731271\n"
     ]
    }
   ],
   "source": [
    "import pandas as pd\n",
    "import numpy as np\n",
    "\n",
    "df_orig = pd.DataFrame(data=np.random.randn(5,2),index=[1,4,2,3,0],columns=['col2','col1'])\n",
    "print(df_orig)\n",
    "print(df_orig.sort_index())\n",
    "print(df_orig.sort_index(axis=1))\n",
    "print(df_orig.sort_values(by=['col1']))"
   ]
  },
  {
   "cell_type": "code",
   "execution_count": 29,
   "metadata": {},
   "outputs": [
    {
     "name": "stdout",
     "output_type": "stream",
     "text": [
      "   Age Names  Score\n",
      "1    1   Ani     93\n",
      "3    2   Bob     98\n",
      "0    3   Cal     95\n",
      "2    4   Dom     99\n",
      "   Age Names  Score\n",
      "0    3   Cal     95\n",
      "1    1   Ani     93\n",
      "2    4   Dom     99\n",
      "3    2   Bob     98\n",
      "   Age Names  Score\n",
      "1    1   Ani     93\n",
      "3    2   Bob     98\n",
      "0    3   Cal     95\n",
      "2    4   Dom     99\n",
      "   Age Names  Score\n",
      "1    1   Ani     93\n",
      "0    3   Cal     95\n",
      "3    2   Bob     98\n",
      "2    4   Dom     99\n"
     ]
    }
   ],
   "source": [
    "#above exercise again with different dataset\n",
    "data2 = {'Names':['Ani','Bob','Cal','Dom'], 'Score': [93,98,95,99], 'Age': [1,2,3,4], }\n",
    "df_orig = pd.DataFrame(data=data2,index=[1,3,0,2])\n",
    "print(df_orig)\n",
    "print(df_orig.sort_index())\n",
    "print(df_orig.sort_index(axis=1))\n",
    "print(df_orig.sort_values(by=['Score']))"
   ]
  },
  {
   "cell_type": "code",
   "execution_count": 32,
   "metadata": {},
   "outputs": [
    {
     "name": "stdout",
     "output_type": "stream",
     "text": [
      "                   A         B         C         D\n",
      "2000-01-01  0.072217 -0.316389  0.406818 -0.188499\n",
      "2000-01-02 -0.009263 -0.814798 -0.640304  1.166583\n",
      "2000-01-03  2.273823  0.345111 -0.717087  0.743075\n",
      "2000-01-04  0.027192  0.129048 -0.446104  0.051129\n",
      "2000-01-05 -1.619391  0.424534  0.331937 -0.345558\n",
      "2000-01-06  0.127923 -1.352498 -1.361500  1.119758\n",
      "2000-01-07  1.434127 -3.045523 -0.193943  1.860374\n",
      "2000-01-08 -0.223068  1.656962  0.188703 -1.309523\n",
      "2000-01-09 -0.825975  0.839928 -0.008315  0.697549\n",
      "2000-01-10  0.774843 -0.089306 -0.996977 -0.382165\n"
     ]
    },
    {
     "ename": "TypeError",
     "evalue": "'Rolling' object is not callable",
     "output_type": "error",
     "traceback": [
      "\u001b[0;31m---------------------------------------------------------------------------\u001b[0m",
      "\u001b[0;31mTypeError\u001b[0m                                 Traceback (most recent call last)",
      "\u001b[0;32m<ipython-input-32-a1eccf1b061f>\u001b[0m in \u001b[0;36m<module>\u001b[0;34m()\u001b[0m\n\u001b[1;32m      8\u001b[0m \u001b[0mprint\u001b[0m\u001b[0;34m(\u001b[0m\u001b[0mdf\u001b[0m\u001b[0;34m)\u001b[0m\u001b[0;34m\u001b[0m\u001b[0m\n\u001b[1;32m      9\u001b[0m \u001b[0mr\u001b[0m \u001b[0;34m=\u001b[0m \u001b[0mdf\u001b[0m\u001b[0;34m.\u001b[0m\u001b[0mrolling\u001b[0m\u001b[0;34m(\u001b[0m\u001b[0mwindow\u001b[0m\u001b[0;34m=\u001b[0m\u001b[0;36m3\u001b[0m\u001b[0;34m,\u001b[0m\u001b[0mmin_periods\u001b[0m\u001b[0;34m=\u001b[0m\u001b[0;36m1\u001b[0m\u001b[0;34m)\u001b[0m\u001b[0;34m\u001b[0m\u001b[0m\n\u001b[0;32m---> 10\u001b[0;31m \u001b[0mprint\u001b[0m\u001b[0;34m(\u001b[0m\u001b[0mr\u001b[0m\u001b[0;34m(\u001b[0m\u001b[0;36m2\u001b[0m\u001b[0;34m)\u001b[0m\u001b[0;34m.\u001b[0m\u001b[0msum\u001b[0m\u001b[0;34m)\u001b[0m\u001b[0;34m\u001b[0m\u001b[0m\n\u001b[0m",
      "\u001b[0;31mTypeError\u001b[0m: 'Rolling' object is not callable"
     ]
    }
   ],
   "source": [
    "import pandas as pd\n",
    "import numpy as np\n",
    "\n",
    "df = pd.DataFrame(np.random.randn(10, 4),\n",
    "   index = pd.date_range('1/1/2000', periods=10),\n",
    "   columns = ['A', 'B', 'C', 'D'])\n",
    "\n",
    "print(df)\n",
    "r = df.rolling(window=3,min_periods=1)\n",
    "print(r)"
   ]
  },
  {
   "cell_type": "code",
   "execution_count": 44,
   "metadata": {},
   "outputs": [
    {
     "name": "stdout",
     "output_type": "stream",
     "text": [
      "    Points  Rank    Team  Year\n",
      "0      876     1  Riders  2014\n",
      "1      789     2  Riders  2015\n",
      "2      863     2  Devils  2014\n",
      "3      673     3  Devils  2015\n",
      "4      741     3   Kings  2014\n",
      "5      812     4   Kings  2015\n",
      "6      756     1   Kings  2016\n",
      "7      788     1   Kings  2017\n",
      "8      694     2  Riders  2016\n",
      "9      701     4  Royals  2014\n",
      "10     804     1  Royals  2015\n",
      "11     690     2  Riders  2017\n",
      "\n",
      "\n",
      "\n",
      "2014 \n",
      "    Points  Rank    Team\n",
      "0     876     1  Riders\n",
      "2     863     2  Devils\n",
      "4     741     3   Kings\n",
      "9     701     4  Royals\n",
      "2015 \n",
      "     Points  Rank    Team\n",
      "10     804     1  Royals\n",
      "1      789     2  Riders\n",
      "3      673     3  Devils\n",
      "5      812     4   Kings\n",
      "2016 \n",
      "    Points  Rank    Team\n",
      "6     756     1   Kings\n",
      "8     694     2  Riders\n",
      "2017 \n",
      "     Points  Rank    Team\n",
      "7      788     1   Kings\n",
      "11     690     2  Riders\n",
      "\n",
      "\n",
      "\n",
      "       sum   mean\n",
      "Rank             \n",
      "1     3224  806.0\n",
      "2     3036  759.0\n",
      "3     1414  707.0\n",
      "4     1513  756.5\n",
      "\n",
      "\n",
      "\n",
      "Devils \n",
      "    Points  Rank    Team  Year\n",
      "2     863     2  Devils  2014\n",
      "3     673     3  Devils  2015\n",
      "Kings \n",
      "    Points  Rank   Team  Year\n",
      "4     741     3  Kings  2014\n",
      "5     812     4  Kings  2015\n",
      "6     756     1  Kings  2016\n",
      "7     788     1  Kings  2017\n",
      "Riders \n",
      "     Points  Rank    Team  Year\n",
      "0      876     1  Riders  2014\n",
      "1      789     2  Riders  2015\n",
      "8      694     2  Riders  2016\n",
      "11     690     2  Riders  2017\n",
      "Royals \n",
      "     Points  Rank    Team  Year\n",
      "9      701     4  Royals  2014\n",
      "10     804     1  Royals  2015\n",
      "\n",
      "\n",
      "\n",
      "    Points  Rank    Team  Year\n",
      "0      876     1  Riders  2014\n",
      "1      789     2  Riders  2015\n",
      "8      694     2  Riders  2016\n",
      "11     690     2  Riders  2017\n"
     ]
    }
   ],
   "source": [
    "import pandas as pd\n",
    "import numpy as np\n",
    "ipl_data = {\n",
    "   'Team': ['Riders', 'Riders', 'Devils', 'Devils', 'Kings', 'Kings', 'Kings', 'Kings', 'Riders', 'Royals', 'Royals', 'Riders'],\n",
    "   'Rank': [1, 2, 2, 3, 3,4 ,1 ,1,2 , 4,1,2],\n",
    "   'Year': [2014,2015,2014,2015,2014,2015,2016,2017,2016,2014,2015,2017],\n",
    "   'Points':[876,789,863,673,741,812,756,788,694,701,804,690]}\n",
    "df = pd.DataFrame(ipl_data)\n",
    "\n",
    "print(df)\n",
    "print(\"\\n\\n\")\n",
    "grouped = df.groupby('Year')\n",
    "for yr,detail in grouped:\n",
    "    print(yr, \"\\n\", detail.iloc[:,:-1].sort_values('Rank'))\n",
    "\n",
    "print(\"\\n\\n\")\n",
    "print(df.groupby('Rank')['Points'].agg([np.sum, np.mean]))\n",
    "\n",
    "print(\"\\n\\n\")\n",
    "grouped2=df.groupby('Team')\n",
    "for team,group in grouped2:\n",
    "    print(team,\"\\n\",group)\n",
    "\n",
    "print(\"\\n\\n\")\n",
    "print(df.groupby('Team').filter(lambda x: x['Rank'].mean() <2))\n"
   ]
  },
  {
   "cell_type": "code",
   "execution_count": 59,
   "metadata": {},
   "outputs": [
    {
     "name": "stdout",
     "output_type": "stream",
     "text": [
      "2019-07-10 00:00:00\n",
      "DatetimeIndex(['2019-07-10', '2019-07-11', '2019-07-12', '2019-07-13',\n",
      "               '2019-07-14', '2019-07-15', '2019-07-16', '2019-07-17',\n",
      "               '2019-07-18', '2019-07-19'],\n",
      "              dtype='datetime64[ns]', freq='D')\n",
      "DatetimeIndex(['2019-07-10', '2019-07-11', '2019-07-12', '2019-07-15',\n",
      "               '2019-07-16', '2019-07-17', '2019-07-18', '2019-07-19',\n",
      "               '2019-07-22', '2019-07-23'],\n",
      "              dtype='datetime64[ns]', freq='B')\n"
     ]
    }
   ],
   "source": [
    "import pandas as pd\n",
    "dt=pd.datetime(2019,7,10)\n",
    "print(dt)\n",
    "print(pd.date_range(\"20190710\", periods=10, freq='D'))\n",
    "print(pd.bdate_range(dt, periods=10, freq='B'))"
   ]
  },
  {
   "cell_type": "code",
   "execution_count": 68,
   "metadata": {},
   "outputs": [
    {
     "data": {
      "text/plain": [
       "'0.22.0'"
      ]
     },
     "execution_count": 68,
     "metadata": {},
     "output_type": "execute_result"
    }
   ],
   "source": [
    "pd.__version__"
   ]
  },
  {
   "cell_type": "code",
   "execution_count": 69,
   "metadata": {},
   "outputs": [
    {
     "name": "stdout",
     "output_type": "stream",
     "text": [
      "['a', 'b', 'c', 'e', 'd', 'f', 'g', 'h', 'i', 'j', 'k', 'l', 'm', 'n', 'o', 'p', 'q', 'r', 's', 't', 'u', 'v', 'w', 'x', 'y', 'z'] \n",
      "\n",
      " 0     a\n",
      "1     b\n",
      "2     c\n",
      "3     e\n",
      "4     d\n",
      "5     f\n",
      "6     g\n",
      "7     h\n",
      "8     i\n",
      "9     j\n",
      "10    k\n",
      "11    l\n",
      "12    m\n",
      "13    n\n",
      "14    o\n",
      "15    p\n",
      "16    q\n",
      "17    r\n",
      "18    s\n",
      "19    t\n",
      "20    u\n",
      "21    v\n",
      "22    w\n",
      "23    x\n",
      "24    y\n",
      "25    z\n",
      "dtype: object\n",
      "[ 0  1  2  3  4  5  6  7  8  9 10 11 12 13 14 15 16 17 18 19 20 21 22 23\n",
      " 24 25] \n",
      "\n",
      " 0      0\n",
      "1      1\n",
      "2      2\n",
      "3      3\n",
      "4      4\n",
      "5      5\n",
      "6      6\n",
      "7      7\n",
      "8      8\n",
      "9      9\n",
      "10    10\n",
      "11    11\n",
      "12    12\n",
      "13    13\n",
      "14    14\n",
      "15    15\n",
      "16    16\n",
      "17    17\n",
      "18    18\n",
      "19    19\n",
      "20    20\n",
      "21    21\n",
      "22    22\n",
      "23    23\n",
      "24    24\n",
      "25    25\n",
      "dtype: int64\n",
      "{'a': 0, 'b': 1, 'c': 2, 'e': 3, 'd': 4, 'f': 5, 'g': 6, 'h': 7, 'i': 8, 'j': 9, 'k': 10, 'l': 11, 'm': 12, 'n': 13, 'o': 14, 'p': 15, 'q': 16, 'r': 17, 's': 18, 't': 19, 'u': 20, 'v': 21, 'w': 22, 'x': 23, 'y': 24, 'z': 25} \n",
      "\n",
      " a     0\n",
      "b     1\n",
      "c     2\n",
      "d     4\n",
      "e     3\n",
      "f     5\n",
      "g     6\n",
      "h     7\n",
      "i     8\n",
      "j     9\n",
      "k    10\n",
      "l    11\n",
      "m    12\n",
      "n    13\n",
      "o    14\n",
      "p    15\n",
      "q    16\n",
      "r    17\n",
      "s    18\n",
      "t    19\n",
      "u    20\n",
      "v    21\n",
      "w    22\n",
      "x    23\n",
      "y    24\n",
      "z    25\n",
      "dtype: int64\n"
     ]
    }
   ],
   "source": [
    "#Create a pandas series from each of the items below: a list, numpy and a dictionary\n",
    "\n",
    "import numpy as np\n",
    "import pandas as pd\n",
    "mylist = list('abcedfghijklmnopqrstuvwxyz')\n",
    "myarr = np.arange(26)\n",
    "mydict = dict(zip(mylist, myarr))\n",
    "\n",
    "lst = pd.Series(data=mylist)\n",
    "arr = pd.Series(data=myarr)\n",
    "dct = pd.Series(data=mydict)\n",
    "\n",
    "print(mylist,\"\\n\\n\",lst)\n",
    "print(myarr,\"\\n\\n\",arr)\n",
    "print(mydict,\"\\n\\n\",dct)"
   ]
  },
  {
   "cell_type": "code",
   "execution_count": 89,
   "metadata": {},
   "outputs": [
    {
     "name": "stdout",
     "output_type": "stream",
     "text": [
      "   0\n",
      "a  0\n",
      "b  1\n",
      "c  2\n",
      "d  4\n",
      "e  3\n",
      "  index  0\n",
      "0     a  0\n",
      "1     b  1\n",
      "2     c  2\n",
      "3     d  4\n",
      "4     e  3\n",
      "  alpha  ordinal\n",
      "0     a        0\n",
      "1     b        1\n",
      "2     c        2\n",
      "3     d        4\n",
      "4     e        3\n"
     ]
    }
   ],
   "source": [
    "#Convert the series ser into a dataframe with its index as another column on the dataframe.\n",
    "\n",
    "mylist = list('abcedfghijklmnopqrstuvwxyz')\n",
    "myarr = np.arange(26)\n",
    "mydict = dict(zip(mylist, myarr))\n",
    "ser = pd.Series(data=mydict)\n",
    "df = ser.to_frame()\n",
    "print(df.head())\n",
    "df = ser.to_frame().reset_index()\n",
    "print(df.head())\n",
    "df = df.rename(columns={'index':'alpha',0:'ordinal'})\n",
    "print(df.head())\n"
   ]
  },
  {
   "cell_type": "code",
   "execution_count": 90,
   "metadata": {},
   "outputs": [
    {
     "name": "stdout",
     "output_type": "stream",
     "text": [
      "  alpha  ordinal\n",
      "0     a        0\n",
      "1     b        1\n",
      "2     c        2\n",
      "3     e        3\n",
      "4     d        4\n"
     ]
    }
   ],
   "source": [
    "#Combine ser1 and ser2 to form a dataframe.\n",
    "\n",
    "import numpy as np\n",
    "ser1 = pd.Series(list('abcedfghijklmnopqrstuvwxyz'))\n",
    "ser2 = pd.Series(np.arange(26))\n",
    "df=pd.DataFrame({'alpha':ser1,'ordinal':ser2})\n",
    "print(df.head())"
   ]
  },
  {
   "cell_type": "code",
   "execution_count": 95,
   "metadata": {},
   "outputs": [
    {
     "name": "stdout",
     "output_type": "stream",
     "text": [
      "0     a\n",
      "1     b\n",
      "2     c\n",
      "3     e\n",
      "4     d\n",
      "5     f\n",
      "6     g\n",
      "7     h\n",
      "8     i\n",
      "9     j\n",
      "10    k\n",
      "11    l\n",
      "12    m\n",
      "13    n\n",
      "14    o\n",
      "15    p\n",
      "16    q\n",
      "17    r\n",
      "18    s\n",
      "19    t\n",
      "20    u\n",
      "21    v\n",
      "22    w\n",
      "23    x\n",
      "24    y\n",
      "25    z\n",
      "Name: alphabets, dtype: object\n"
     ]
    }
   ],
   "source": [
    "#Give a name to the series ser calling it ‘alphabets’.\n",
    "\n",
    "ser = pd.Series(list('abcedfghijklmnopqrstuvwxyz'))\n",
    "ser.name = 'alphabets'\n",
    "print(ser)\n"
   ]
  },
  {
   "cell_type": "code",
   "execution_count": 100,
   "metadata": {},
   "outputs": [
    {
     "name": "stdout",
     "output_type": "stream",
     "text": [
      "0    False\n",
      "1    False\n",
      "2    False\n",
      "3     True\n",
      "4     True\n",
      "dtype: bool\n",
      "0    1\n",
      "1    2\n",
      "2    3\n",
      "dtype: int64\n"
     ]
    }
   ],
   "source": [
    "#From ser1 remove items present in ser2.\n",
    "\n",
    "ser1 = pd.Series([1, 2, 3, 4, 5])\n",
    "ser2 = pd.Series([4, 5, 6, 7, 8])\n",
    "comp =ser1.isin(ser2)\n",
    "print(comp)\n",
    "print(ser1[~comp])"
   ]
  },
  {
   "cell_type": "code",
   "execution_count": 109,
   "metadata": {},
   "outputs": [
    {
     "name": "stdout",
     "output_type": "stream",
     "text": [
      "3.645105744462704\n",
      "10.810566185939974\n",
      "17.1680686678771\n",
      "0.25     7.807513\n",
      "0.75    14.356254\n",
      "dtype: float64\n",
      "[ 3.64510574  7.80751266 10.81056619 14.35625371 17.16806867]\n"
     ]
    }
   ],
   "source": [
    "#Compute the minimum, 25th percentile, median, 75th, and maximum of ser.\n",
    "\n",
    "ser = pd.Series(np.random.normal(10, 5, 25))\n",
    "#print(ser)\n",
    "print(ser.min())\n",
    "print(ser.median())\n",
    "print(ser.max())\n",
    "print(ser.quantile([0.25,0.75]))\n",
    "\n",
    "#solution2\n",
    "print(np.percentile(ser, q=[0, 25, 50, 75, 100]))\n"
   ]
  },
  {
   "cell_type": "code",
   "execution_count": 116,
   "metadata": {},
   "outputs": [
    {
     "name": "stdout",
     "output_type": "stream",
     "text": [
      "b    8\n",
      "e    5\n",
      "h    4\n",
      "g    4\n",
      "a    3\n",
      "d    3\n",
      "f    2\n",
      "c    1\n",
      "dtype: int64\n",
      "['a' 'b' 'c' 'd' 'e' 'f' 'g' 'h'] [3 8 1 3 5 2 4 4]\n"
     ]
    }
   ],
   "source": [
    "#Calculte the frequency counts of each unique value ser.\n",
    "ser = pd.Series(np.take(list('abcdefgh'), np.random.randint(8, size=30)))\n",
    "print(ser.value_counts())\n",
    "val,count = np.unique(ser,return_counts=True)\n",
    "print(val,count)"
   ]
  },
  {
   "cell_type": "code",
   "execution_count": 156,
   "metadata": {},
   "outputs": [
    {
     "name": "stdout",
     "output_type": "stream",
     "text": [
      "3    5\n",
      "2    3\n",
      "1    3\n",
      "4    1\n",
      "dtype: int64\n",
      "True\n",
      "ser.value_counts().index[:2]:  Int64Index([3, 2], dtype='int64') ser.value_counts().iloc[:2]:  [5 3]\n",
      "0     Other\n",
      "1         3\n",
      "2         3\n",
      "3         2\n",
      "4         2\n",
      "5         3\n",
      "6         3\n",
      "7         2\n",
      "8     Other\n",
      "9     Other\n",
      "10        3\n",
      "11    Other\n",
      "dtype: object\n"
     ]
    }
   ],
   "source": [
    "#From ser, keep the top 2 most frequent items as it is and replace everything else as ‘Other’.\n",
    "np.random.RandomState(100)\n",
    "ser = pd.Series(np.random.randint(1, 5, [12]))\n",
    "#print(ser)\n",
    "print(ser.value_counts())\n",
    "print(isinstance(ser.value_counts(),pd.Series))\n",
    "print('ser.value_counts().index[:2]: ',ser.value_counts().index[:2],\n",
    "      'ser.value_counts().iloc[:2]: ',ser.value_counts().iloc[:2].values)\n",
    "#print(ser.isin(ser.value_counts().index[:2]))\n",
    "ser[~ser.isin(ser.value_counts().index[:2])]='Other'\n",
    "print(ser)"
   ]
  },
  {
   "cell_type": "code",
   "execution_count": 165,
   "metadata": {},
   "outputs": [
    {
     "name": "stdout",
     "output_type": "stream",
     "text": [
      "5th    4\n",
      "4th    4\n",
      "3rd    4\n",
      "2nd    4\n",
      "1st    4\n",
      "dtype: int64\n",
      "5th    6\n",
      "1st    5\n",
      "4th    4\n",
      "2nd    3\n",
      "3rd    2\n",
      "dtype: int64\n"
     ]
    }
   ],
   "source": [
    "#Bin the series ser into 10 equal deciles and replace the values with the bin name.\n",
    "\n",
    "ser = pd.Series(np.random.random(20))\n",
    "#print(pd.qcut(ser,5,labels=['1st','2nd','3rd','4th','5th']))\n",
    "print(pd.qcut(ser,5,labels=['1st','2nd','3rd','4th','5th']).value_counts())\n",
    "#print(pd.cut(ser,5,labels=['1st','2nd','3rd','4th','5th']))\n",
    "print(pd.cut(ser,5,labels=['1st','2nd','3rd','4th','5th']).value_counts())"
   ]
  },
  {
   "cell_type": "code",
   "execution_count": 166,
   "metadata": {},
   "outputs": [
    {
     "data": {
      "text/html": [
       "<div>\n",
       "<style scoped>\n",
       "    .dataframe tbody tr th:only-of-type {\n",
       "        vertical-align: middle;\n",
       "    }\n",
       "\n",
       "    .dataframe tbody tr th {\n",
       "        vertical-align: top;\n",
       "    }\n",
       "\n",
       "    .dataframe thead th {\n",
       "        text-align: right;\n",
       "    }\n",
       "</style>\n",
       "<table border=\"1\" class=\"dataframe\">\n",
       "  <thead>\n",
       "    <tr style=\"text-align: right;\">\n",
       "      <th></th>\n",
       "      <th>0</th>\n",
       "      <th>1</th>\n",
       "      <th>2</th>\n",
       "      <th>3</th>\n",
       "      <th>4</th>\n",
       "    </tr>\n",
       "  </thead>\n",
       "  <tbody>\n",
       "    <tr>\n",
       "      <th>0</th>\n",
       "      <td>4</td>\n",
       "      <td>7</td>\n",
       "      <td>2</td>\n",
       "      <td>6</td>\n",
       "      <td>1</td>\n",
       "    </tr>\n",
       "    <tr>\n",
       "      <th>1</th>\n",
       "      <td>7</td>\n",
       "      <td>4</td>\n",
       "      <td>7</td>\n",
       "      <td>7</td>\n",
       "      <td>6</td>\n",
       "    </tr>\n",
       "    <tr>\n",
       "      <th>2</th>\n",
       "      <td>8</td>\n",
       "      <td>4</td>\n",
       "      <td>6</td>\n",
       "      <td>9</td>\n",
       "      <td>4</td>\n",
       "    </tr>\n",
       "    <tr>\n",
       "      <th>3</th>\n",
       "      <td>2</td>\n",
       "      <td>6</td>\n",
       "      <td>3</td>\n",
       "      <td>4</td>\n",
       "      <td>8</td>\n",
       "    </tr>\n",
       "    <tr>\n",
       "      <th>4</th>\n",
       "      <td>6</td>\n",
       "      <td>8</td>\n",
       "      <td>6</td>\n",
       "      <td>5</td>\n",
       "      <td>2</td>\n",
       "    </tr>\n",
       "    <tr>\n",
       "      <th>5</th>\n",
       "      <td>8</td>\n",
       "      <td>4</td>\n",
       "      <td>9</td>\n",
       "      <td>5</td>\n",
       "      <td>8</td>\n",
       "    </tr>\n",
       "    <tr>\n",
       "      <th>6</th>\n",
       "      <td>6</td>\n",
       "      <td>2</td>\n",
       "      <td>3</td>\n",
       "      <td>5</td>\n",
       "      <td>5</td>\n",
       "    </tr>\n",
       "  </tbody>\n",
       "</table>\n",
       "</div>"
      ],
      "text/plain": [
       "   0  1  2  3  4\n",
       "0  4  7  2  6  1\n",
       "1  7  4  7  7  6\n",
       "2  8  4  6  9  4\n",
       "3  2  6  3  4  8\n",
       "4  6  8  6  5  2\n",
       "5  8  4  9  5  8\n",
       "6  6  2  3  5  5"
      ]
     },
     "execution_count": 166,
     "metadata": {},
     "output_type": "execute_result"
    }
   ],
   "source": [
    "#Reshape the series ser into a dataframe with 7 rows and 5 columns\n",
    "\n",
    "ser = pd.Series(np.random.randint(1, 10, 35))\n",
    "pd.DataFrame(ser.values.reshape((7,5)))\n"
   ]
  },
  {
   "cell_type": "code",
   "execution_count": 172,
   "metadata": {},
   "outputs": [
    {
     "name": "stdout",
     "output_type": "stream",
     "text": [
      "0    9\n",
      "1    6\n",
      "2    8\n",
      "3    1\n",
      "4    2\n",
      "5    5\n",
      "6    9\n",
      "dtype: int64\n",
      "Int64Index([0, 1, 6], dtype='int64')\n",
      "[[0]\n",
      " [1]\n",
      " [6]]\n"
     ]
    }
   ],
   "source": [
    "#Find the positions of numbers that are multiples of 3 from ser.\n",
    "\n",
    "ser = pd.Series(np.random.randint(1, 10, 7))\n",
    "print(ser)\n",
    "print(ser[ser%3==0].index)\n",
    "print(np.argwhere(ser % 3==0))\n"
   ]
  },
  {
   "cell_type": "code",
   "execution_count": 177,
   "metadata": {},
   "outputs": [
    {
     "data": {
      "text/plain": [
       "Int64Index([0, 4, 5, 8], dtype='int64')"
      ]
     },
     "execution_count": 177,
     "metadata": {},
     "output_type": "execute_result"
    }
   ],
   "source": [
    "#Get the positions of items of ser2 in ser1 as a list.\n",
    "\n",
    "ser1 = pd.Series([10, 9, 6, 5, 3, 1, 12, 8, 13])\n",
    "ser2 = pd.Series([1, 3, 10, 13])\n",
    "ser1[ser1.isin(ser2)].index"
   ]
  },
  {
   "cell_type": "code",
   "execution_count": 180,
   "metadata": {},
   "outputs": [
    {
     "name": "stdout",
     "output_type": "stream",
     "text": [
      "Sol#1 0     How\n",
      "1      To\n",
      "2    Kick\n",
      "3    Ass?\n",
      "dtype: object\n",
      "Sol#2 0     How\n",
      "1      To\n",
      "2    Kick\n",
      "3    Ass?\n",
      "dtype: object\n"
     ]
    }
   ],
   "source": [
    "#Change the first character of each word to upper case in each word of ser.\n",
    "\n",
    "ser = pd.Series(['how', 'to', 'kick', 'ass?'])\n",
    "print(\"Sol#1\",ser.str.title())\n",
    "print(\"Sol#2\",ser.map(lambda x: x.title()))"
   ]
  },
  {
   "cell_type": "code",
   "execution_count": 183,
   "metadata": {},
   "outputs": [
    {
     "name": "stdout",
     "output_type": "stream",
     "text": [
      "0    NaN\n",
      "1    2.0\n",
      "2    3.0\n",
      "3    4.0\n",
      "4    5.0\n",
      "5    6.0\n",
      "6    6.0\n",
      "7    8.0\n",
      "dtype: float64\n",
      "0    NaN\n",
      "1    NaN\n",
      "2    1.0\n",
      "3    1.0\n",
      "4    1.0\n",
      "5    1.0\n",
      "6    0.0\n",
      "7    2.0\n",
      "dtype: float64\n"
     ]
    }
   ],
   "source": [
    "#Difference of differences between the consequtive numbers of ser.\n",
    "\n",
    "ser = pd.Series([1, 3, 6, 10, 15, 21, 27, 35])\n",
    "print(ser.diff())\n",
    "print(ser.diff().diff())"
   ]
  },
  {
   "cell_type": "code",
   "execution_count": 189,
   "metadata": {},
   "outputs": [
    {
     "name": "stdout",
     "output_type": "stream",
     "text": [
      "0   2010-01-04\n",
      "1   2011-02-04\n",
      "2   2012-03-04\n",
      "dtype: datetime64[ns]\n"
     ]
    }
   ],
   "source": [
    "#Change ser to dates that start with 4th of the respective months.\n",
    "from datetime import timedelta\n",
    "ser = pd.Series(['Jan 2010', 'Feb 2011', 'Mar 2012'])\n",
    "df = pd.to_datetime(ser) + timedelta(days=3)\n",
    "\n",
    "print(df)"
   ]
  },
  {
   "cell_type": "code",
   "execution_count": null,
   "metadata": {},
   "outputs": [],
   "source": []
  },
  {
   "cell_type": "code",
   "execution_count": null,
   "metadata": {},
   "outputs": [],
   "source": []
  },
  {
   "cell_type": "code",
   "execution_count": null,
   "metadata": {},
   "outputs": [],
   "source": []
  },
  {
   "cell_type": "code",
   "execution_count": null,
   "metadata": {},
   "outputs": [],
   "source": []
  },
  {
   "cell_type": "code",
   "execution_count": null,
   "metadata": {},
   "outputs": [],
   "source": []
  },
  {
   "cell_type": "code",
   "execution_count": null,
   "metadata": {},
   "outputs": [],
   "source": []
  },
  {
   "cell_type": "code",
   "execution_count": null,
   "metadata": {},
   "outputs": [],
   "source": []
  },
  {
   "cell_type": "code",
   "execution_count": null,
   "metadata": {},
   "outputs": [],
   "source": []
  },
  {
   "cell_type": "code",
   "execution_count": null,
   "metadata": {},
   "outputs": [],
   "source": []
  },
  {
   "cell_type": "code",
   "execution_count": null,
   "metadata": {},
   "outputs": [],
   "source": []
  },
  {
   "cell_type": "code",
   "execution_count": null,
   "metadata": {},
   "outputs": [],
   "source": []
  },
  {
   "cell_type": "code",
   "execution_count": null,
   "metadata": {},
   "outputs": [],
   "source": []
  },
  {
   "cell_type": "code",
   "execution_count": null,
   "metadata": {},
   "outputs": [],
   "source": []
  },
  {
   "cell_type": "code",
   "execution_count": null,
   "metadata": {},
   "outputs": [],
   "source": []
  },
  {
   "cell_type": "code",
   "execution_count": null,
   "metadata": {},
   "outputs": [],
   "source": []
  },
  {
   "cell_type": "code",
   "execution_count": null,
   "metadata": {},
   "outputs": [],
   "source": []
  },
  {
   "cell_type": "code",
   "execution_count": null,
   "metadata": {},
   "outputs": [],
   "source": []
  },
  {
   "cell_type": "code",
   "execution_count": null,
   "metadata": {},
   "outputs": [],
   "source": []
  },
  {
   "cell_type": "code",
   "execution_count": null,
   "metadata": {},
   "outputs": [],
   "source": []
  },
  {
   "cell_type": "code",
   "execution_count": null,
   "metadata": {},
   "outputs": [],
   "source": []
  },
  {
   "cell_type": "code",
   "execution_count": null,
   "metadata": {},
   "outputs": [],
   "source": []
  },
  {
   "cell_type": "code",
   "execution_count": null,
   "metadata": {},
   "outputs": [],
   "source": []
  },
  {
   "cell_type": "code",
   "execution_count": null,
   "metadata": {},
   "outputs": [],
   "source": []
  },
  {
   "cell_type": "code",
   "execution_count": null,
   "metadata": {},
   "outputs": [],
   "source": []
  },
  {
   "cell_type": "code",
   "execution_count": null,
   "metadata": {},
   "outputs": [],
   "source": []
  },
  {
   "cell_type": "code",
   "execution_count": null,
   "metadata": {},
   "outputs": [],
   "source": []
  },
  {
   "cell_type": "code",
   "execution_count": null,
   "metadata": {},
   "outputs": [],
   "source": []
  },
  {
   "cell_type": "code",
   "execution_count": null,
   "metadata": {},
   "outputs": [],
   "source": []
  },
  {
   "cell_type": "code",
   "execution_count": null,
   "metadata": {},
   "outputs": [],
   "source": []
  },
  {
   "cell_type": "code",
   "execution_count": null,
   "metadata": {},
   "outputs": [],
   "source": []
  },
  {
   "cell_type": "code",
   "execution_count": null,
   "metadata": {},
   "outputs": [],
   "source": []
  },
  {
   "cell_type": "code",
   "execution_count": null,
   "metadata": {},
   "outputs": [],
   "source": []
  },
  {
   "cell_type": "code",
   "execution_count": null,
   "metadata": {},
   "outputs": [],
   "source": []
  },
  {
   "cell_type": "code",
   "execution_count": null,
   "metadata": {},
   "outputs": [],
   "source": []
  },
  {
   "cell_type": "code",
   "execution_count": null,
   "metadata": {},
   "outputs": [],
   "source": []
  },
  {
   "cell_type": "code",
   "execution_count": null,
   "metadata": {},
   "outputs": [],
   "source": []
  },
  {
   "cell_type": "code",
   "execution_count": null,
   "metadata": {},
   "outputs": [],
   "source": []
  },
  {
   "cell_type": "code",
   "execution_count": null,
   "metadata": {},
   "outputs": [],
   "source": []
  },
  {
   "cell_type": "code",
   "execution_count": null,
   "metadata": {},
   "outputs": [],
   "source": []
  },
  {
   "cell_type": "code",
   "execution_count": null,
   "metadata": {},
   "outputs": [],
   "source": []
  },
  {
   "cell_type": "code",
   "execution_count": null,
   "metadata": {},
   "outputs": [],
   "source": []
  },
  {
   "cell_type": "code",
   "execution_count": null,
   "metadata": {},
   "outputs": [],
   "source": []
  },
  {
   "cell_type": "code",
   "execution_count": null,
   "metadata": {},
   "outputs": [],
   "source": []
  },
  {
   "cell_type": "code",
   "execution_count": null,
   "metadata": {},
   "outputs": [],
   "source": []
  },
  {
   "cell_type": "code",
   "execution_count": null,
   "metadata": {},
   "outputs": [],
   "source": []
  },
  {
   "cell_type": "code",
   "execution_count": null,
   "metadata": {},
   "outputs": [],
   "source": []
  },
  {
   "cell_type": "code",
   "execution_count": null,
   "metadata": {},
   "outputs": [],
   "source": []
  },
  {
   "cell_type": "code",
   "execution_count": null,
   "metadata": {},
   "outputs": [],
   "source": []
  },
  {
   "cell_type": "code",
   "execution_count": null,
   "metadata": {},
   "outputs": [],
   "source": []
  },
  {
   "cell_type": "code",
   "execution_count": null,
   "metadata": {},
   "outputs": [],
   "source": []
  },
  {
   "cell_type": "code",
   "execution_count": null,
   "metadata": {},
   "outputs": [],
   "source": []
  },
  {
   "cell_type": "code",
   "execution_count": null,
   "metadata": {},
   "outputs": [],
   "source": []
  },
  {
   "cell_type": "code",
   "execution_count": null,
   "metadata": {},
   "outputs": [],
   "source": []
  },
  {
   "cell_type": "code",
   "execution_count": null,
   "metadata": {},
   "outputs": [],
   "source": []
  },
  {
   "cell_type": "code",
   "execution_count": null,
   "metadata": {},
   "outputs": [],
   "source": []
  },
  {
   "cell_type": "code",
   "execution_count": null,
   "metadata": {},
   "outputs": [],
   "source": []
  },
  {
   "cell_type": "code",
   "execution_count": null,
   "metadata": {},
   "outputs": [],
   "source": []
  },
  {
   "cell_type": "code",
   "execution_count": null,
   "metadata": {},
   "outputs": [],
   "source": []
  },
  {
   "cell_type": "code",
   "execution_count": null,
   "metadata": {},
   "outputs": [],
   "source": []
  },
  {
   "cell_type": "code",
   "execution_count": null,
   "metadata": {},
   "outputs": [],
   "source": []
  },
  {
   "cell_type": "code",
   "execution_count": null,
   "metadata": {},
   "outputs": [],
   "source": []
  },
  {
   "cell_type": "code",
   "execution_count": null,
   "metadata": {},
   "outputs": [],
   "source": []
  },
  {
   "cell_type": "code",
   "execution_count": null,
   "metadata": {},
   "outputs": [],
   "source": []
  },
  {
   "cell_type": "code",
   "execution_count": null,
   "metadata": {},
   "outputs": [],
   "source": []
  },
  {
   "cell_type": "code",
   "execution_count": null,
   "metadata": {},
   "outputs": [],
   "source": []
  },
  {
   "cell_type": "code",
   "execution_count": null,
   "metadata": {},
   "outputs": [],
   "source": []
  },
  {
   "cell_type": "code",
   "execution_count": null,
   "metadata": {},
   "outputs": [],
   "source": []
  },
  {
   "cell_type": "code",
   "execution_count": null,
   "metadata": {},
   "outputs": [],
   "source": []
  },
  {
   "cell_type": "code",
   "execution_count": null,
   "metadata": {},
   "outputs": [],
   "source": []
  },
  {
   "cell_type": "code",
   "execution_count": null,
   "metadata": {},
   "outputs": [],
   "source": []
  },
  {
   "cell_type": "code",
   "execution_count": null,
   "metadata": {},
   "outputs": [],
   "source": []
  },
  {
   "cell_type": "code",
   "execution_count": null,
   "metadata": {},
   "outputs": [],
   "source": []
  },
  {
   "cell_type": "code",
   "execution_count": null,
   "metadata": {},
   "outputs": [],
   "source": []
  },
  {
   "cell_type": "code",
   "execution_count": null,
   "metadata": {},
   "outputs": [],
   "source": []
  },
  {
   "cell_type": "code",
   "execution_count": null,
   "metadata": {},
   "outputs": [],
   "source": []
  },
  {
   "cell_type": "code",
   "execution_count": null,
   "metadata": {},
   "outputs": [],
   "source": []
  },
  {
   "cell_type": "code",
   "execution_count": null,
   "metadata": {},
   "outputs": [],
   "source": []
  },
  {
   "cell_type": "code",
   "execution_count": null,
   "metadata": {},
   "outputs": [],
   "source": []
  },
  {
   "cell_type": "code",
   "execution_count": null,
   "metadata": {},
   "outputs": [],
   "source": []
  },
  {
   "cell_type": "code",
   "execution_count": null,
   "metadata": {},
   "outputs": [],
   "source": []
  },
  {
   "cell_type": "code",
   "execution_count": null,
   "metadata": {},
   "outputs": [],
   "source": []
  },
  {
   "cell_type": "code",
   "execution_count": null,
   "metadata": {},
   "outputs": [],
   "source": []
  },
  {
   "cell_type": "code",
   "execution_count": null,
   "metadata": {},
   "outputs": [],
   "source": []
  },
  {
   "cell_type": "code",
   "execution_count": null,
   "metadata": {},
   "outputs": [],
   "source": []
  },
  {
   "cell_type": "code",
   "execution_count": null,
   "metadata": {},
   "outputs": [],
   "source": []
  },
  {
   "cell_type": "code",
   "execution_count": null,
   "metadata": {},
   "outputs": [],
   "source": []
  },
  {
   "cell_type": "code",
   "execution_count": null,
   "metadata": {},
   "outputs": [],
   "source": []
  },
  {
   "cell_type": "code",
   "execution_count": null,
   "metadata": {},
   "outputs": [],
   "source": []
  },
  {
   "cell_type": "code",
   "execution_count": null,
   "metadata": {},
   "outputs": [],
   "source": []
  },
  {
   "cell_type": "code",
   "execution_count": null,
   "metadata": {},
   "outputs": [],
   "source": []
  },
  {
   "cell_type": "code",
   "execution_count": null,
   "metadata": {},
   "outputs": [],
   "source": []
  },
  {
   "cell_type": "code",
   "execution_count": null,
   "metadata": {},
   "outputs": [],
   "source": []
  },
  {
   "cell_type": "code",
   "execution_count": null,
   "metadata": {},
   "outputs": [],
   "source": []
  },
  {
   "cell_type": "code",
   "execution_count": null,
   "metadata": {},
   "outputs": [],
   "source": []
  },
  {
   "cell_type": "code",
   "execution_count": null,
   "metadata": {},
   "outputs": [],
   "source": []
  },
  {
   "cell_type": "code",
   "execution_count": null,
   "metadata": {},
   "outputs": [],
   "source": []
  },
  {
   "cell_type": "code",
   "execution_count": null,
   "metadata": {},
   "outputs": [],
   "source": []
  },
  {
   "cell_type": "code",
   "execution_count": null,
   "metadata": {},
   "outputs": [],
   "source": []
  },
  {
   "cell_type": "code",
   "execution_count": null,
   "metadata": {},
   "outputs": [],
   "source": []
  },
  {
   "cell_type": "code",
   "execution_count": null,
   "metadata": {},
   "outputs": [],
   "source": []
  },
  {
   "cell_type": "code",
   "execution_count": null,
   "metadata": {},
   "outputs": [],
   "source": []
  },
  {
   "cell_type": "code",
   "execution_count": null,
   "metadata": {},
   "outputs": [],
   "source": []
  },
  {
   "cell_type": "code",
   "execution_count": null,
   "metadata": {},
   "outputs": [],
   "source": []
  },
  {
   "cell_type": "code",
   "execution_count": null,
   "metadata": {},
   "outputs": [],
   "source": []
  },
  {
   "cell_type": "code",
   "execution_count": null,
   "metadata": {},
   "outputs": [],
   "source": []
  },
  {
   "cell_type": "code",
   "execution_count": null,
   "metadata": {},
   "outputs": [],
   "source": []
  },
  {
   "cell_type": "code",
   "execution_count": null,
   "metadata": {},
   "outputs": [],
   "source": []
  },
  {
   "cell_type": "code",
   "execution_count": null,
   "metadata": {},
   "outputs": [],
   "source": []
  },
  {
   "cell_type": "code",
   "execution_count": null,
   "metadata": {},
   "outputs": [],
   "source": []
  },
  {
   "cell_type": "code",
   "execution_count": null,
   "metadata": {},
   "outputs": [],
   "source": []
  },
  {
   "cell_type": "code",
   "execution_count": null,
   "metadata": {},
   "outputs": [],
   "source": []
  },
  {
   "cell_type": "code",
   "execution_count": null,
   "metadata": {},
   "outputs": [],
   "source": []
  },
  {
   "cell_type": "code",
   "execution_count": null,
   "metadata": {},
   "outputs": [],
   "source": []
  },
  {
   "cell_type": "code",
   "execution_count": null,
   "metadata": {},
   "outputs": [],
   "source": []
  },
  {
   "cell_type": "code",
   "execution_count": null,
   "metadata": {},
   "outputs": [],
   "source": []
  },
  {
   "cell_type": "code",
   "execution_count": null,
   "metadata": {},
   "outputs": [],
   "source": []
  },
  {
   "cell_type": "code",
   "execution_count": null,
   "metadata": {},
   "outputs": [],
   "source": []
  },
  {
   "cell_type": "code",
   "execution_count": null,
   "metadata": {},
   "outputs": [],
   "source": []
  },
  {
   "cell_type": "code",
   "execution_count": null,
   "metadata": {},
   "outputs": [],
   "source": []
  },
  {
   "cell_type": "code",
   "execution_count": null,
   "metadata": {},
   "outputs": [],
   "source": []
  },
  {
   "cell_type": "code",
   "execution_count": null,
   "metadata": {},
   "outputs": [],
   "source": []
  },
  {
   "cell_type": "code",
   "execution_count": null,
   "metadata": {},
   "outputs": [],
   "source": []
  },
  {
   "cell_type": "code",
   "execution_count": null,
   "metadata": {},
   "outputs": [],
   "source": []
  },
  {
   "cell_type": "code",
   "execution_count": null,
   "metadata": {},
   "outputs": [],
   "source": []
  },
  {
   "cell_type": "code",
   "execution_count": null,
   "metadata": {},
   "outputs": [],
   "source": []
  },
  {
   "cell_type": "code",
   "execution_count": null,
   "metadata": {},
   "outputs": [],
   "source": []
  },
  {
   "cell_type": "code",
   "execution_count": null,
   "metadata": {},
   "outputs": [],
   "source": []
  },
  {
   "cell_type": "code",
   "execution_count": null,
   "metadata": {},
   "outputs": [],
   "source": []
  },
  {
   "cell_type": "code",
   "execution_count": null,
   "metadata": {},
   "outputs": [],
   "source": []
  },
  {
   "cell_type": "code",
   "execution_count": null,
   "metadata": {},
   "outputs": [],
   "source": []
  },
  {
   "cell_type": "code",
   "execution_count": null,
   "metadata": {},
   "outputs": [],
   "source": []
  },
  {
   "cell_type": "code",
   "execution_count": null,
   "metadata": {},
   "outputs": [],
   "source": []
  },
  {
   "cell_type": "code",
   "execution_count": null,
   "metadata": {},
   "outputs": [],
   "source": []
  },
  {
   "cell_type": "code",
   "execution_count": null,
   "metadata": {},
   "outputs": [],
   "source": []
  },
  {
   "cell_type": "code",
   "execution_count": null,
   "metadata": {},
   "outputs": [],
   "source": []
  },
  {
   "cell_type": "code",
   "execution_count": null,
   "metadata": {},
   "outputs": [],
   "source": []
  },
  {
   "cell_type": "code",
   "execution_count": null,
   "metadata": {},
   "outputs": [],
   "source": []
  },
  {
   "cell_type": "code",
   "execution_count": null,
   "metadata": {},
   "outputs": [],
   "source": []
  },
  {
   "cell_type": "code",
   "execution_count": null,
   "metadata": {},
   "outputs": [],
   "source": []
  },
  {
   "cell_type": "code",
   "execution_count": null,
   "metadata": {},
   "outputs": [],
   "source": []
  },
  {
   "cell_type": "code",
   "execution_count": null,
   "metadata": {},
   "outputs": [],
   "source": []
  },
  {
   "cell_type": "code",
   "execution_count": null,
   "metadata": {},
   "outputs": [],
   "source": []
  },
  {
   "cell_type": "code",
   "execution_count": null,
   "metadata": {},
   "outputs": [],
   "source": []
  },
  {
   "cell_type": "code",
   "execution_count": null,
   "metadata": {},
   "outputs": [],
   "source": []
  },
  {
   "cell_type": "code",
   "execution_count": null,
   "metadata": {},
   "outputs": [],
   "source": []
  },
  {
   "cell_type": "code",
   "execution_count": null,
   "metadata": {},
   "outputs": [],
   "source": []
  },
  {
   "cell_type": "code",
   "execution_count": null,
   "metadata": {},
   "outputs": [],
   "source": []
  },
  {
   "cell_type": "code",
   "execution_count": null,
   "metadata": {},
   "outputs": [],
   "source": []
  },
  {
   "cell_type": "code",
   "execution_count": null,
   "metadata": {},
   "outputs": [],
   "source": []
  },
  {
   "cell_type": "code",
   "execution_count": null,
   "metadata": {},
   "outputs": [],
   "source": []
  },
  {
   "cell_type": "code",
   "execution_count": null,
   "metadata": {},
   "outputs": [],
   "source": []
  },
  {
   "cell_type": "code",
   "execution_count": null,
   "metadata": {},
   "outputs": [],
   "source": []
  },
  {
   "cell_type": "code",
   "execution_count": null,
   "metadata": {},
   "outputs": [],
   "source": []
  },
  {
   "cell_type": "code",
   "execution_count": null,
   "metadata": {},
   "outputs": [],
   "source": []
  },
  {
   "cell_type": "code",
   "execution_count": null,
   "metadata": {},
   "outputs": [],
   "source": []
  },
  {
   "cell_type": "code",
   "execution_count": null,
   "metadata": {},
   "outputs": [],
   "source": []
  },
  {
   "cell_type": "code",
   "execution_count": null,
   "metadata": {},
   "outputs": [],
   "source": []
  },
  {
   "cell_type": "code",
   "execution_count": null,
   "metadata": {},
   "outputs": [],
   "source": []
  },
  {
   "cell_type": "code",
   "execution_count": null,
   "metadata": {},
   "outputs": [],
   "source": []
  },
  {
   "cell_type": "code",
   "execution_count": null,
   "metadata": {},
   "outputs": [],
   "source": []
  },
  {
   "cell_type": "code",
   "execution_count": null,
   "metadata": {},
   "outputs": [],
   "source": []
  },
  {
   "cell_type": "code",
   "execution_count": null,
   "metadata": {},
   "outputs": [],
   "source": []
  },
  {
   "cell_type": "code",
   "execution_count": null,
   "metadata": {},
   "outputs": [],
   "source": []
  },
  {
   "cell_type": "code",
   "execution_count": null,
   "metadata": {},
   "outputs": [],
   "source": []
  },
  {
   "cell_type": "code",
   "execution_count": null,
   "metadata": {},
   "outputs": [],
   "source": []
  },
  {
   "cell_type": "code",
   "execution_count": null,
   "metadata": {},
   "outputs": [],
   "source": []
  },
  {
   "cell_type": "code",
   "execution_count": null,
   "metadata": {},
   "outputs": [],
   "source": []
  },
  {
   "cell_type": "code",
   "execution_count": null,
   "metadata": {},
   "outputs": [],
   "source": []
  },
  {
   "cell_type": "code",
   "execution_count": null,
   "metadata": {},
   "outputs": [],
   "source": []
  },
  {
   "cell_type": "code",
   "execution_count": null,
   "metadata": {},
   "outputs": [],
   "source": []
  },
  {
   "cell_type": "code",
   "execution_count": null,
   "metadata": {},
   "outputs": [],
   "source": []
  },
  {
   "cell_type": "code",
   "execution_count": null,
   "metadata": {},
   "outputs": [],
   "source": []
  },
  {
   "cell_type": "code",
   "execution_count": null,
   "metadata": {},
   "outputs": [],
   "source": []
  },
  {
   "cell_type": "code",
   "execution_count": null,
   "metadata": {},
   "outputs": [],
   "source": []
  },
  {
   "cell_type": "code",
   "execution_count": null,
   "metadata": {},
   "outputs": [],
   "source": []
  },
  {
   "cell_type": "code",
   "execution_count": null,
   "metadata": {},
   "outputs": [],
   "source": []
  },
  {
   "cell_type": "code",
   "execution_count": null,
   "metadata": {},
   "outputs": [],
   "source": []
  },
  {
   "cell_type": "code",
   "execution_count": null,
   "metadata": {},
   "outputs": [],
   "source": []
  },
  {
   "cell_type": "code",
   "execution_count": null,
   "metadata": {},
   "outputs": [],
   "source": []
  },
  {
   "cell_type": "code",
   "execution_count": null,
   "metadata": {},
   "outputs": [],
   "source": []
  },
  {
   "cell_type": "code",
   "execution_count": null,
   "metadata": {},
   "outputs": [],
   "source": []
  },
  {
   "cell_type": "code",
   "execution_count": null,
   "metadata": {},
   "outputs": [],
   "source": []
  },
  {
   "cell_type": "code",
   "execution_count": null,
   "metadata": {},
   "outputs": [],
   "source": []
  },
  {
   "cell_type": "code",
   "execution_count": null,
   "metadata": {},
   "outputs": [],
   "source": []
  },
  {
   "cell_type": "code",
   "execution_count": null,
   "metadata": {},
   "outputs": [],
   "source": []
  },
  {
   "cell_type": "code",
   "execution_count": null,
   "metadata": {},
   "outputs": [],
   "source": []
  },
  {
   "cell_type": "code",
   "execution_count": null,
   "metadata": {},
   "outputs": [],
   "source": []
  },
  {
   "cell_type": "code",
   "execution_count": null,
   "metadata": {},
   "outputs": [],
   "source": []
  },
  {
   "cell_type": "code",
   "execution_count": null,
   "metadata": {},
   "outputs": [],
   "source": []
  },
  {
   "cell_type": "code",
   "execution_count": null,
   "metadata": {},
   "outputs": [],
   "source": []
  },
  {
   "cell_type": "code",
   "execution_count": null,
   "metadata": {},
   "outputs": [],
   "source": []
  }
 ],
 "metadata": {
  "kernelspec": {
   "display_name": "Python 3",
   "language": "python",
   "name": "python3"
  },
  "language_info": {
   "codemirror_mode": {
    "name": "ipython",
    "version": 3
   },
   "file_extension": ".py",
   "mimetype": "text/x-python",
   "name": "python",
   "nbconvert_exporter": "python",
   "pygments_lexer": "ipython3",
   "version": "3.6.6"
  }
 },
 "nbformat": 4,
 "nbformat_minor": 2
}
